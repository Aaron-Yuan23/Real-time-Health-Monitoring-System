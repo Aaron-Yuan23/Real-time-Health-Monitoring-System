{
 "cells": [
  {
   "cell_type": "markdown",
   "metadata": {},
   "source": [
    "# Configuration Model\n",
    "\n",
    "In this notebook, I train a model to classify postures based on skeletal information."
   ]
  },
  {
   "cell_type": "code",
   "execution_count": 6,
   "metadata": {},
   "outputs": [],
   "source": [
    "# PATH\n",
    "DATASET_BASE_DIR = 'trainingdata/'\n",
    "MERGED_DF = 'trainingdata/posture_features_and_labels.tsv'"
   ]
  },
  {
   "cell_type": "code",
   "execution_count": 8,
   "metadata": {},
   "outputs": [],
   "source": [
    "from os import listdir\n",
    "from os.path import isfile, join\n",
    "import numpy as np\n",
    "import pandas as pd"
   ]
  },
  {
   "cell_type": "code",
   "execution_count": 94,
   "metadata": {},
   "outputs": [
    {
     "name": "stdout",
     "output_type": "stream",
     "text": [
      "        Height   Angle1   Angle2   Angle3   Angle4   Angle5   Angle6  label\n",
      "0      1449.21  93.7099  89.9651      180  179.966  163.338  175.972      2\n",
      "1       1475.8  110.801  104.773      180  179.972  165.175  172.429      2\n",
      "2      1469.94  110.749  104.663      180      180  166.125  172.454      2\n",
      "3      1499.01  116.487  108.382      180      180  171.196  175.473      2\n",
      "4      1504.16  119.547  107.736      180      180  171.875  176.082      2\n",
      "5      1487.45  112.784   103.15      180  179.972  171.467  175.775      2\n",
      "6      1477.01    109.1  102.169  179.966  179.966  171.057   175.55      2\n",
      "7      1462.61  107.283  99.6069  179.972      180  172.425  175.098      2\n",
      "8      1469.86  110.012  104.006      180  179.966  175.406  176.261      2\n",
      "9      1467.14  110.796  103.773  179.966  179.966  176.485  175.208      2\n",
      "10     1452.27  111.067  104.776      180      180  175.591  174.016      2\n",
      "11     1450.77  110.433  105.472      180  179.966  175.091  174.212      2\n",
      "12     1453.67  110.037  105.707  179.972  179.972  174.342  173.466      2\n",
      "13     1426.69  98.8454  92.0488  179.966      180  169.123  168.231      2\n",
      "14     1410.69  100.964  95.9489  179.972  179.966  167.538  166.983      2\n",
      "15     1418.84  106.596  104.266      180      180  166.468  165.717      2\n",
      "16     1422.26    107.5  104.942  179.966      180  166.196  165.268      2\n",
      "17     1428.66  106.011  103.713  179.972  179.972  166.354  165.413      2\n",
      "18      1439.2  106.236  104.446      180      180  167.379  166.586      2\n",
      "19     1443.56  107.456  106.007  179.972      180  168.691  168.189      2\n",
      "20     1442.69  108.963  107.537      180      180  169.359  169.079      2\n",
      "21     1441.85  110.407  109.155      180      180  170.081  170.296      2\n",
      "22     1440.65  109.387  106.791      180      180  170.426  170.955      2\n",
      "23     1442.04  108.406  105.029  179.966      180  170.537  171.174      2\n",
      "24     1448.84  107.596  103.736  179.972      180  170.057   169.97      2\n",
      "25     1449.64  107.331  103.996      180  179.972  170.034  169.566      2\n",
      "26     1451.91  108.525  104.992  179.966      180  171.603  171.357      2\n",
      "27     1469.69  108.738  104.992      180      180   171.87   171.68      2\n",
      "28     1471.75  108.293  104.558  179.972  179.972  172.323   172.16      2\n",
      "29     1461.31  106.436  101.985  179.972  179.972  176.771  176.002      2\n",
      "...        ...      ...      ...      ...      ...      ...      ...    ...\n",
      "15204  1066.32  82.3856  87.1424  138.054  127.343  172.837  122.333      0\n",
      "15205  1063.11  81.1042  89.5184  136.427  128.185  172.365   122.25      0\n",
      "15206  1059.51  81.0183  93.1018  136.721  127.947  171.512  121.618      0\n",
      "15207  1049.63  78.0419  89.6521  138.435  130.258  170.583  121.223      0\n",
      "15208  1054.72  69.9371  82.9329  146.278  134.866  169.744  124.419      0\n",
      "15209  1046.01  64.4524   74.355  152.425  140.262   168.72  126.429      0\n",
      "15210  1021.62  64.3772  68.7478  154.082   144.12  167.405  125.444      0\n",
      "15211  994.902  62.8545  67.3836  156.435  146.041  166.179  124.824      0\n",
      "15212  977.991  68.2649  70.0049  155.049  146.596  165.038  123.305      0\n",
      "15213  966.871  71.0476  71.8263  156.504  147.594  164.253  123.717      0\n",
      "15214   958.65  74.6481  75.7827  155.932  148.643   164.14   124.68      0\n",
      "15215  951.589  83.8071  83.3709  151.035  147.792  164.302  124.382      0\n",
      "15216  946.377  89.6994  89.7608  147.939  146.809  164.234  124.147      0\n",
      "15217  943.506  94.2102  96.6764  146.743  145.105  164.345  125.176      0\n",
      "15218  937.064   92.661  96.9558  147.868  144.575  164.095  125.961      0\n",
      "15219  933.954  87.6613  95.1284  151.114  145.095  163.986  127.741      0\n",
      "15220  931.053  85.5701   93.922  151.618  145.243  164.035  128.562      0\n",
      "15221  930.451  84.8479  92.6098  151.901  145.582  164.016  129.249      0\n",
      "15222  927.737  81.4986   89.497   152.38  146.113  163.839  128.688      0\n",
      "15223  924.925  78.7126  86.5775  152.914  146.919  163.732  128.482      0\n",
      "15224  921.338  78.2752  85.3787  151.994    147.1   163.68  128.063      0\n",
      "15225  918.195  79.7761  85.2308  150.105  147.003   163.58  127.157      0\n",
      "15226  917.893  80.1695  84.6985  149.521  146.948  163.568  126.936      0\n",
      "15227  932.003  75.6301  84.2142  155.116  147.052  163.563  129.487      0\n",
      "15228  930.545  74.9868  84.3406  156.016  146.951  163.557  129.783      0\n",
      "15229  927.867  75.1023  84.5252  155.941  146.853  163.541  129.676      0\n",
      "15230  925.609  74.9553  84.5464  155.908  146.796  163.496  129.484      0\n",
      "15231  917.779  72.0608  80.6186  156.948  148.292  162.497   127.37      0\n",
      "15232  913.352  77.0146  80.6609   153.97  148.773  161.576  124.731      0\n",
      "15233  908.191  82.1688  83.6186  151.127  148.627  160.591  122.267      0\n",
      "\n",
      "[15234 rows x 8 columns]\n"
     ]
    }
   ],
   "source": [
    "#Prepare training data\n",
    "#Convert txt files to CSV format\n",
    "files = [f for f in listdir('trainingdata') if 'readme' not in f and isfile(join('trainingdata', f))]\n",
    "features_and_labels = []\n",
    "for file in files:\n",
    "    if('standing' in file):\n",
    "        with open(DATASET_BASE_DIR + file) as f:\n",
    "            features = [w.replace('\\n', '') for w in f.readlines()]\n",
    "            for i in range(1,1+int(len(features)/10)):\n",
    "                del features[i*7:(i*7)+3]\n",
    "            features_with_label = []\n",
    "            for i in range(int(len(features)/7)):\n",
    "                features_with_label.append(features[i*7:(i*7)+7] + [0]) #Label 0\n",
    "            features_and_labels = features_and_labels + features_with_label\n",
    "    elif('sitting' in file):\n",
    "        with open(DATASET_BASE_DIR + file) as f:\n",
    "            features = [w.replace('\\n', '') for w in f.readlines()]\n",
    "            for i in range(1,1+int(len(features)/10)):\n",
    "                del features[i*7:(i*7)+3]\n",
    "            features_with_label = []\n",
    "            for i in range(int(len(features)/7)):\n",
    "                features_with_label.append(features[i*7:(i*7)+7] + [1]) #Label 1\n",
    "            features_and_labels = features_and_labels + features_with_label\n",
    "    elif('lying' in file):\n",
    "        with open(DATASET_BASE_DIR + file) as f:\n",
    "            features = [w.replace('\\n', '') for w in f.readlines()]\n",
    "            for i in range(1,1+int(len(features)/10)):\n",
    "                del features[i*7:(i*7)+3]\n",
    "            features_with_label = []\n",
    "            for i in range(int(len(features)/7)):\n",
    "                features_with_label.append(features[i*7:(i*7)+7] + [2]) #Label 2\n",
    "            features_and_labels = features_and_labels + features_with_label\n",
    "\n",
    "#Create Pandas dataframe now.\n",
    "df = pd.DataFrame(columns=['Height', 'Angle1','Angle2','Angle3','Angle4','Angle5','Angle6','label'], data=features_and_labels)\n",
    "print (df)\n",
    "\n",
    "#Export it as CSV\n",
    "df.to_csv(MERGED_DF, sep='\\t', index=False)"
   ]
  },
  {
   "cell_type": "code",
   "execution_count": 9,
   "metadata": {},
   "outputs": [
    {
     "data": {
      "text/html": [
       "<div>\n",
       "<style scoped>\n",
       "    .dataframe tbody tr th:only-of-type {\n",
       "        vertical-align: middle;\n",
       "    }\n",
       "\n",
       "    .dataframe tbody tr th {\n",
       "        vertical-align: top;\n",
       "    }\n",
       "\n",
       "    .dataframe thead th {\n",
       "        text-align: right;\n",
       "    }\n",
       "</style>\n",
       "<table border=\"1\" class=\"dataframe\">\n",
       "  <thead>\n",
       "    <tr style=\"text-align: right;\">\n",
       "      <th></th>\n",
       "      <th>Height</th>\n",
       "      <th>Angle1</th>\n",
       "      <th>Angle2</th>\n",
       "      <th>Angle3</th>\n",
       "      <th>Angle4</th>\n",
       "      <th>Angle5</th>\n",
       "      <th>Angle6</th>\n",
       "      <th>label</th>\n",
       "    </tr>\n",
       "  </thead>\n",
       "  <tbody>\n",
       "    <tr>\n",
       "      <th>0</th>\n",
       "      <td>1449.21</td>\n",
       "      <td>93.7099</td>\n",
       "      <td>89.9651</td>\n",
       "      <td>180.0</td>\n",
       "      <td>179.966</td>\n",
       "      <td>163.338</td>\n",
       "      <td>175.972</td>\n",
       "      <td>2</td>\n",
       "    </tr>\n",
       "    <tr>\n",
       "      <th>1</th>\n",
       "      <td>1475.80</td>\n",
       "      <td>110.8010</td>\n",
       "      <td>104.7730</td>\n",
       "      <td>180.0</td>\n",
       "      <td>179.972</td>\n",
       "      <td>165.175</td>\n",
       "      <td>172.429</td>\n",
       "      <td>2</td>\n",
       "    </tr>\n",
       "    <tr>\n",
       "      <th>2</th>\n",
       "      <td>1469.94</td>\n",
       "      <td>110.7490</td>\n",
       "      <td>104.6630</td>\n",
       "      <td>180.0</td>\n",
       "      <td>180.000</td>\n",
       "      <td>166.125</td>\n",
       "      <td>172.454</td>\n",
       "      <td>2</td>\n",
       "    </tr>\n",
       "    <tr>\n",
       "      <th>3</th>\n",
       "      <td>1499.01</td>\n",
       "      <td>116.4870</td>\n",
       "      <td>108.3820</td>\n",
       "      <td>180.0</td>\n",
       "      <td>180.000</td>\n",
       "      <td>171.196</td>\n",
       "      <td>175.473</td>\n",
       "      <td>2</td>\n",
       "    </tr>\n",
       "    <tr>\n",
       "      <th>4</th>\n",
       "      <td>1504.16</td>\n",
       "      <td>119.5470</td>\n",
       "      <td>107.7360</td>\n",
       "      <td>180.0</td>\n",
       "      <td>180.000</td>\n",
       "      <td>171.875</td>\n",
       "      <td>176.082</td>\n",
       "      <td>2</td>\n",
       "    </tr>\n",
       "  </tbody>\n",
       "</table>\n",
       "</div>"
      ],
      "text/plain": [
       "    Height    Angle1    Angle2  Angle3   Angle4   Angle5   Angle6  label\n",
       "0  1449.21   93.7099   89.9651   180.0  179.966  163.338  175.972      2\n",
       "1  1475.80  110.8010  104.7730   180.0  179.972  165.175  172.429      2\n",
       "2  1469.94  110.7490  104.6630   180.0  180.000  166.125  172.454      2\n",
       "3  1499.01  116.4870  108.3820   180.0  180.000  171.196  175.473      2\n",
       "4  1504.16  119.5470  107.7360   180.0  180.000  171.875  176.082      2"
      ]
     },
     "execution_count": 9,
     "metadata": {},
     "output_type": "execute_result"
    }
   ],
   "source": [
    "#Load CSV Data\n",
    "df = pd.read_csv(MERGED_DF, sep='\\t')\n",
    "df.head()"
   ]
  },
  {
   "cell_type": "code",
   "execution_count": 10,
   "metadata": {},
   "outputs": [],
   "source": [
    "# Import dem libz\n",
    "from json import load\n",
    "from sklearn.model_selection import train_test_split\n",
    "from sklearn.model_selection import cross_val_score\n",
    "from sklearn.metrics import precision_recall_fscore_support as score\n"
   ]
  },
  {
   "cell_type": "markdown",
   "metadata": {},
   "source": [
    "## Model building\n",
    "\n",
    "Ok, so, we shall build a Random forest to classify posture configurations."
   ]
  },
  {
   "cell_type": "code",
   "execution_count": 11,
   "metadata": {},
   "outputs": [],
   "source": [
    "from sklearn.model_selection import cross_val_score\n",
    "from sklearn.model_selection import cross_validate\n",
    "from sklearn.metrics import recall_score, precision_score, accuracy_score, f1_score, classification_report\n",
    "from sklearn.model_selection import GridSearchCV\n",
    "from sklearn.model_selection import StratifiedKFold\n",
    "from sklearn.model_selection import LeaveOneOut\n",
    "from sklearn.externals import joblib\n",
    "from json import dumps\n",
    "from sklearn import tree\n",
    "import pandas as pd0\n",
    "import numpy as np\n",
    "import os\n",
    "import graphviz\n",
    "\n",
    "# Path to the dataset\n",
    "MERGED_DF = 'trainingdata/posture_features_and_labels.tsv'\n",
    "\n",
    "# Create a seed for reproducibility\n",
    "SEED = 42"
   ]
  },
  {
   "cell_type": "markdown",
   "metadata": {},
   "source": [
    "Let's define the training/testing pipeling for one configuration (flat). We will then be able to loop through the different configurations to train/test models."
   ]
  },
  {
   "cell_type": "code",
   "execution_count": 12,
   "metadata": {},
   "outputs": [],
   "source": [
    "from sklearn.ensemble import RandomForestClassifier\n",
    "def tune_hyperparameters(X, y, num_folds=3):\n",
    "    \"\"\"Builds a tree and performs grid search to find the optimal hyperparameters in terms\n",
    "    of F1 score.\n",
    "    \"\"\"\n",
    "    \n",
    "    # Instantiate the RF Model\n",
    "    rfc = RandomForestClassifier(n_jobs=-1, oob_score = True, criterion='entropy')#max_features= 'sqrt' ,n_estimators=50, oob_score = True) \n",
    "    param_grid = {\n",
    "        'bootstrap': [True],\n",
    "        'max_depth': [1, 2, 4, 5, 7, 100],#, 110],\n",
    "        'max_features': [0.33, 1, 3, 4, 5],#, 'auto', 'sqrt', 'log2'],#[2, 3],\n",
    "        #'min_samples_leaf': [3, 4, 5],\n",
    "        #'min_samples_split': [8, 10, 12],\n",
    "        'n_estimators': [60, 100, 300]#,\n",
    "  #      'criterion' :['gini', 'entropy']\n",
    "    }\n",
    "#         'n_estimators': [200, 500],\n",
    "#     'max_features': ['auto', 'sqrt', 'log2'],\n",
    "#     'max_depth' : [4,5,6,7,8],\n",
    "#     'criterion' :['gini', 'entropy']\n",
    "    CV_rfc = GridSearchCV(estimator=rfc, param_grid=param_grid, cv=3,\n",
    "                         scoring=['precision_macro', 'recall_macro', 'f1_macro', 'accuracy'], refit='f1_macro')\n",
    "    CV_rfc.fit(X, y)\n",
    "    \n",
    "    #print CV_rfc.best_params_\n",
    "    return CV_rfc.best_estimator_"
   ]
  },
  {
   "cell_type": "code",
   "execution_count": 13,
   "metadata": {},
   "outputs": [],
   "source": [
    "def plot_tree(clf, features, output_file):\n",
    "    data = tree.export_graphviz(clf, out_file=None, \n",
    "                         feature_names=features,  \n",
    "                         class_names=['false', 'true'],  \n",
    "                         filled=True, rounded=True,  \n",
    "                         special_characters=True) \n",
    "        \n",
    "    # Create the tree\n",
    "    graph = graphviz.Source(data)\n",
    "    \n",
    "    # Print dat beautiful tree\n",
    "    graph.render(output_file) "
   ]
  },
  {
   "cell_type": "code",
   "execution_count": 14,
   "metadata": {},
   "outputs": [],
   "source": [
    "def save_model(clf, output_file):\n",
    "    joblib.dump(clf, output_file)"
   ]
  },
  {
   "cell_type": "code",
   "execution_count": 19,
   "metadata": {},
   "outputs": [
    {
     "name": "stdout",
     "output_type": "stream",
     "text": [
      "12187\n",
      "3047\n",
      "Tuning\n"
     ]
    },
    {
     "name": "stderr",
     "output_type": "stream",
     "text": [
      "/usr/local/lib/python3.6/site-packages/sklearn/metrics/classification.py:1135: UndefinedMetricWarning: Precision is ill-defined and being set to 0.0 in labels with no predicted samples.\n",
      "  'precision', 'predicted', average, warn_for)\n",
      "/usr/local/lib/python3.6/site-packages/sklearn/metrics/classification.py:1135: UndefinedMetricWarning: F-score is ill-defined and being set to 0.0 in labels with no predicted samples.\n",
      "  'precision', 'predicted', average, warn_for)\n",
      "/usr/local/lib/python3.6/site-packages/sklearn/metrics/classification.py:1135: UndefinedMetricWarning: Precision is ill-defined and being set to 0.0 in labels with no predicted samples.\n",
      "  'precision', 'predicted', average, warn_for)\n",
      "/usr/local/lib/python3.6/site-packages/sklearn/metrics/classification.py:1135: UndefinedMetricWarning: F-score is ill-defined and being set to 0.0 in labels with no predicted samples.\n",
      "  'precision', 'predicted', average, warn_for)\n",
      "/usr/local/lib/python3.6/site-packages/sklearn/metrics/classification.py:1135: UndefinedMetricWarning: Precision is ill-defined and being set to 0.0 in labels with no predicted samples.\n",
      "  'precision', 'predicted', average, warn_for)\n",
      "/usr/local/lib/python3.6/site-packages/sklearn/metrics/classification.py:1135: UndefinedMetricWarning: F-score is ill-defined and being set to 0.0 in labels with no predicted samples.\n",
      "  'precision', 'predicted', average, warn_for)\n",
      "/usr/local/lib/python3.6/site-packages/sklearn/metrics/classification.py:1135: UndefinedMetricWarning: Precision is ill-defined and being set to 0.0 in labels with no predicted samples.\n",
      "  'precision', 'predicted', average, warn_for)\n",
      "/usr/local/lib/python3.6/site-packages/sklearn/metrics/classification.py:1135: UndefinedMetricWarning: F-score is ill-defined and being set to 0.0 in labels with no predicted samples.\n",
      "  'precision', 'predicted', average, warn_for)\n",
      "/usr/local/lib/python3.6/site-packages/sklearn/metrics/classification.py:1135: UndefinedMetricWarning: Precision is ill-defined and being set to 0.0 in labels with no predicted samples.\n",
      "  'precision', 'predicted', average, warn_for)\n",
      "/usr/local/lib/python3.6/site-packages/sklearn/metrics/classification.py:1135: UndefinedMetricWarning: F-score is ill-defined and being set to 0.0 in labels with no predicted samples.\n",
      "  'precision', 'predicted', average, warn_for)\n",
      "/usr/local/lib/python3.6/site-packages/sklearn/metrics/classification.py:1135: UndefinedMetricWarning: Precision is ill-defined and being set to 0.0 in labels with no predicted samples.\n",
      "  'precision', 'predicted', average, warn_for)\n",
      "/usr/local/lib/python3.6/site-packages/sklearn/metrics/classification.py:1135: UndefinedMetricWarning: F-score is ill-defined and being set to 0.0 in labels with no predicted samples.\n",
      "  'precision', 'predicted', average, warn_for)\n",
      "/usr/local/lib/python3.6/site-packages/sklearn/metrics/classification.py:1135: UndefinedMetricWarning: Precision is ill-defined and being set to 0.0 in labels with no predicted samples.\n",
      "  'precision', 'predicted', average, warn_for)\n",
      "/usr/local/lib/python3.6/site-packages/sklearn/metrics/classification.py:1135: UndefinedMetricWarning: F-score is ill-defined and being set to 0.0 in labels with no predicted samples.\n",
      "  'precision', 'predicted', average, warn_for)\n",
      "/usr/local/lib/python3.6/site-packages/sklearn/metrics/classification.py:1135: UndefinedMetricWarning: Precision is ill-defined and being set to 0.0 in labels with no predicted samples.\n",
      "  'precision', 'predicted', average, warn_for)\n",
      "/usr/local/lib/python3.6/site-packages/sklearn/metrics/classification.py:1135: UndefinedMetricWarning: F-score is ill-defined and being set to 0.0 in labels with no predicted samples.\n",
      "  'precision', 'predicted', average, warn_for)\n",
      "/usr/local/lib/python3.6/site-packages/sklearn/metrics/classification.py:1135: UndefinedMetricWarning: Precision is ill-defined and being set to 0.0 in labels with no predicted samples.\n",
      "  'precision', 'predicted', average, warn_for)\n",
      "/usr/local/lib/python3.6/site-packages/sklearn/metrics/classification.py:1135: UndefinedMetricWarning: F-score is ill-defined and being set to 0.0 in labels with no predicted samples.\n",
      "  'precision', 'predicted', average, warn_for)\n",
      "/usr/local/lib/python3.6/site-packages/sklearn/metrics/classification.py:1135: UndefinedMetricWarning: Precision is ill-defined and being set to 0.0 in labels with no predicted samples.\n",
      "  'precision', 'predicted', average, warn_for)\n",
      "/usr/local/lib/python3.6/site-packages/sklearn/metrics/classification.py:1135: UndefinedMetricWarning: F-score is ill-defined and being set to 0.0 in labels with no predicted samples.\n",
      "  'precision', 'predicted', average, warn_for)\n",
      "/usr/local/lib/python3.6/site-packages/sklearn/metrics/classification.py:1135: UndefinedMetricWarning: Precision is ill-defined and being set to 0.0 in labels with no predicted samples.\n",
      "  'precision', 'predicted', average, warn_for)\n",
      "/usr/local/lib/python3.6/site-packages/sklearn/metrics/classification.py:1135: UndefinedMetricWarning: F-score is ill-defined and being set to 0.0 in labels with no predicted samples.\n",
      "  'precision', 'predicted', average, warn_for)\n",
      "/usr/local/lib/python3.6/site-packages/sklearn/metrics/classification.py:1135: UndefinedMetricWarning: Precision is ill-defined and being set to 0.0 in labels with no predicted samples.\n",
      "  'precision', 'predicted', average, warn_for)\n",
      "/usr/local/lib/python3.6/site-packages/sklearn/metrics/classification.py:1135: UndefinedMetricWarning: F-score is ill-defined and being set to 0.0 in labels with no predicted samples.\n",
      "  'precision', 'predicted', average, warn_for)\n",
      "/usr/local/lib/python3.6/site-packages/sklearn/metrics/classification.py:1135: UndefinedMetricWarning: Precision is ill-defined and being set to 0.0 in labels with no predicted samples.\n",
      "  'precision', 'predicted', average, warn_for)\n",
      "/usr/local/lib/python3.6/site-packages/sklearn/metrics/classification.py:1135: UndefinedMetricWarning: F-score is ill-defined and being set to 0.0 in labels with no predicted samples.\n",
      "  'precision', 'predicted', average, warn_for)\n",
      "/usr/local/lib/python3.6/site-packages/sklearn/metrics/classification.py:1135: UndefinedMetricWarning: Precision is ill-defined and being set to 0.0 in labels with no predicted samples.\n",
      "  'precision', 'predicted', average, warn_for)\n",
      "/usr/local/lib/python3.6/site-packages/sklearn/metrics/classification.py:1135: UndefinedMetricWarning: F-score is ill-defined and being set to 0.0 in labels with no predicted samples.\n",
      "  'precision', 'predicted', average, warn_for)\n",
      "/usr/local/lib/python3.6/site-packages/sklearn/metrics/classification.py:1135: UndefinedMetricWarning: Precision is ill-defined and being set to 0.0 in labels with no predicted samples.\n",
      "  'precision', 'predicted', average, warn_for)\n",
      "/usr/local/lib/python3.6/site-packages/sklearn/metrics/classification.py:1135: UndefinedMetricWarning: F-score is ill-defined and being set to 0.0 in labels with no predicted samples.\n",
      "  'precision', 'predicted', average, warn_for)\n",
      "/usr/local/lib/python3.6/site-packages/sklearn/metrics/classification.py:1135: UndefinedMetricWarning: Precision is ill-defined and being set to 0.0 in labels with no predicted samples.\n",
      "  'precision', 'predicted', average, warn_for)\n",
      "/usr/local/lib/python3.6/site-packages/sklearn/metrics/classification.py:1135: UndefinedMetricWarning: F-score is ill-defined and being set to 0.0 in labels with no predicted samples.\n",
      "  'precision', 'predicted', average, warn_for)\n",
      "/usr/local/lib/python3.6/site-packages/sklearn/metrics/classification.py:1135: UndefinedMetricWarning: Precision is ill-defined and being set to 0.0 in labels with no predicted samples.\n",
      "  'precision', 'predicted', average, warn_for)\n",
      "/usr/local/lib/python3.6/site-packages/sklearn/metrics/classification.py:1135: UndefinedMetricWarning: F-score is ill-defined and being set to 0.0 in labels with no predicted samples.\n",
      "  'precision', 'predicted', average, warn_for)\n"
     ]
    },
    {
     "name": "stdout",
     "output_type": "stream",
     "text": [
      "Testing\n"
     ]
    }
   ],
   "source": [
    "# Define the features\n",
    "features = ['Height', 'Angle1','Angle2','Angle3','Angle4','Angle5','Angle6']\n",
    "X = df[features]\n",
    "y = df['label']\n",
    "\n",
    "model_performances = []\n",
    "\n",
    "X_train, X_test, y_train, y_test = train_test_split(X, y, test_size=0.2, random_state=0)\n",
    "print(len(X_train))\n",
    "print(len(X_test))\n",
    "\n",
    "# Tune the hyperparameters with a grid search\n",
    "print('Tuning')\n",
    "tuned_model = tune_hyperparameters(X_train, y_train)\n",
    "\n",
    "print('Testing')\n",
    "y_true, y_pred = y_test, tuned_model.predict(X_test)\n",
    "accuracy = tuned_model.score(X_test, y_test)\n",
    "precision,recall,fscore,support=score(y_true,y_pred,average='weighted')\n",
    "model_performances.append([accuracy,precision,recall,fscore])\n",
    "\n",
    "model_output = 'posture_model.pkl'\n",
    "graph_output = 'details/posture_model_tree_structure'\n",
    "\n",
    "# Save dat model\n",
    "save_model(tuned_model, model_output)\n",
    "\n",
    "# Plot\n",
    "#plot_tree(tuned_model, features, graph_output)"
   ]
  },
  {
   "cell_type": "code",
   "execution_count": 20,
   "metadata": {},
   "outputs": [
    {
     "data": {
      "text/html": [
       "<div>\n",
       "<style scoped>\n",
       "    .dataframe tbody tr th:only-of-type {\n",
       "        vertical-align: middle;\n",
       "    }\n",
       "\n",
       "    .dataframe tbody tr th {\n",
       "        vertical-align: top;\n",
       "    }\n",
       "\n",
       "    .dataframe thead th {\n",
       "        text-align: right;\n",
       "    }\n",
       "</style>\n",
       "<table border=\"1\" class=\"dataframe\">\n",
       "  <thead>\n",
       "    <tr style=\"text-align: right;\">\n",
       "      <th></th>\n",
       "      <th>Accuracy</th>\n",
       "      <th>Precision</th>\n",
       "      <th>Recall</th>\n",
       "      <th>F1score</th>\n",
       "    </tr>\n",
       "  </thead>\n",
       "  <tbody>\n",
       "    <tr>\n",
       "      <th>0</th>\n",
       "      <td>0.923203</td>\n",
       "      <td>0.924029</td>\n",
       "      <td>0.923203</td>\n",
       "      <td>0.923522</td>\n",
       "    </tr>\n",
       "  </tbody>\n",
       "</table>\n",
       "</div>"
      ],
      "text/plain": [
       "   Accuracy  Precision    Recall   F1score\n",
       "0  0.923203   0.924029  0.923203  0.923522"
      ]
     },
     "execution_count": 20,
     "metadata": {},
     "output_type": "execute_result"
    }
   ],
   "source": [
    "performance = pd.DataFrame(model_performances)\n",
    "performance.columns = ['Accuracy','Precision','Recall','F1score']\n",
    "performance\n"
   ]
  },
  {
   "cell_type": "code",
   "execution_count": 21,
   "metadata": {},
   "outputs": [
    {
     "data": {
      "text/plain": [
       "RandomForestClassifier(bootstrap=True, class_weight=None, criterion='entropy',\n",
       "            max_depth=100, max_features=3, max_leaf_nodes=None,\n",
       "            min_impurity_decrease=0.0, min_impurity_split=None,\n",
       "            min_samples_leaf=1, min_samples_split=2,\n",
       "            min_weight_fraction_leaf=0.0, n_estimators=300, n_jobs=-1,\n",
       "            oob_score=True, random_state=None, verbose=0, warm_start=False)"
      ]
     },
     "execution_count": 21,
     "metadata": {},
     "output_type": "execute_result"
    }
   ],
   "source": [
    "tuned_model"
   ]
  },
  {
   "cell_type": "code",
   "execution_count": null,
   "metadata": {},
   "outputs": [],
   "source": []
  },
  {
   "cell_type": "code",
   "execution_count": 5,
   "metadata": {},
   "outputs": [
    {
     "name": "stdout",
     "output_type": "stream",
     "text": [
      "[2]\n"
     ]
    }
   ],
   "source": [
    "from sklearn.externals import joblib\n",
    "loaded_model = joblib.load('posture_model.pkl')\n",
    "inputVals = [[1449.21,93.7099,89.9651,180,179.966,163.338,175.972,10]]\n",
    "prediction = loaded_model.predict(inputVals)\n",
    "print(prediction)"
   ]
  },
  {
   "cell_type": "code",
   "execution_count": null,
   "metadata": {},
   "outputs": [],
   "source": []
  }
 ],
 "metadata": {
  "kernelspec": {
   "display_name": "Python 3",
   "language": "python",
   "name": "python3"
  },
  "language_info": {
   "codemirror_mode": {
    "name": "ipython",
    "version": 3
   },
   "file_extension": ".py",
   "mimetype": "text/x-python",
   "name": "python",
   "nbconvert_exporter": "python",
   "pygments_lexer": "ipython3",
   "version": "3.6.5"
  }
 },
 "nbformat": 4,
 "nbformat_minor": 2
}
